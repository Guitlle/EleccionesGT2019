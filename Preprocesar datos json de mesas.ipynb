{
 "cells": [
  {
   "cell_type": "code",
   "execution_count": 1,
   "metadata": {},
   "outputs": [],
   "source": [
    "import os\n",
    "import pandas as pd\n",
    "import numpy as np \n",
    "import json \n"
   ]
  },
  {
   "cell_type": "code",
   "execution_count": 47,
   "metadata": {},
   "outputs": [],
   "source": [
    "with open(\"mesas_rv/1.json\") as f:\n",
    "    a = json.load(f)"
   ]
  },
  {
   "cell_type": "code",
   "execution_count": 48,
   "metadata": {},
   "outputs": [
    {
     "data": {
      "text/plain": [
       "{'FECHAHORA': '20/06/2019 - 10:00:40',\n",
       " 'NROMESA': '1',\n",
       " 'TE': [{'TIPOELECCION': '1',\n",
       "   'IMGSTATUS': 'OK',\n",
       "   'IMGSRC': '../img/201901/000011.jpg',\n",
       "   'STACTA': '1',\n",
       "   'CNTPAPELETAS': 0,\n",
       "   'VOTOSVALIDOSACTA': '278',\n",
       "   'VOTOSVALIDOS': '278',\n",
       "   'NULOS': '11',\n",
       "   'BLANCOS': '3',\n",
       "   'INVALIDOS': 0,\n",
       "   'TOTALACTA': 0,\n",
       "   'TOTALVOTOS': '292',\n",
       "   'ACTACUADRA': 0,\n",
       "   'CNTIMPUGNA': 0,\n",
       "   'STESCAN': '2',\n",
       "   'STTRANS': '1',\n",
       "   'STFISIC': 0,\n",
       "   'CNTINSCRITOS': '400',\n",
       "   'DEP': 0,\n",
       "   'MUN': '1',\n",
       "   'NDEP': 'GUATEMALA',\n",
       "   'NMUN': 'DISTRITO CENTRAL',\n",
       "   'NTE': 'PRESIDENTE Y VICEPRESIDENTE',\n",
       "   'VOTOSTE0': [{'D': 'VAMOS', 'V': '73'},\n",
       "    {'D': 'TODOS', 'V': '2'},\n",
       "    {'D': 'UNE', 'V': '5'},\n",
       "    {'D': 'UNIONISTA', 'V': '4'},\n",
       "    {'D': 'CONVERGENCIA', 'V': 0},\n",
       "    {'D': 'CREO', 'V': '33'},\n",
       "    {'D': 'FCN-NACION', 'V': '5'},\n",
       "    {'D': 'WINAQ', 'V': '24'},\n",
       "    {'D': 'PPT', 'V': '4'},\n",
       "    {'D': 'UNIDOS', 'V': 0},\n",
       "    {'D': 'EG', 'V': '12'},\n",
       "    {'D': 'URNG MAIZ', 'V': '1'},\n",
       "    {'D': 'VICTORIA', 'V': '3'},\n",
       "    {'D': 'PHG', 'V': '45'},\n",
       "    {'D': 'VIVA', 'V': '35'},\n",
       "    {'D': 'AVANZA', 'V': 0},\n",
       "    {'D': 'LIBRE', 'V': '3'},\n",
       "    {'D': 'PAN-PODEMOS', 'V': '12'},\n",
       "    {'D': 'MLP', 'V': '17'}]},\n",
       "  {'TIPOELECCION': '2',\n",
       "   'IMGSTATUS': 'OK',\n",
       "   'IMGSRC': '../img/201901/000012.jpg',\n",
       "   'STACTA': '1',\n",
       "   'CNTPAPELETAS': 0,\n",
       "   'VOTOSVALIDOSACTA': '248',\n",
       "   'VOTOSVALIDOS': '248',\n",
       "   'NULOS': '42',\n",
       "   'BLANCOS': '2',\n",
       "   'INVALIDOS': 0,\n",
       "   'TOTALACTA': '292',\n",
       "   'TOTALVOTOS': '292',\n",
       "   'ACTACUADRA': '1',\n",
       "   'CNTIMPUGNA': 0,\n",
       "   'STESCAN': '2',\n",
       "   'STTRANS': '1',\n",
       "   'STFISIC': 0,\n",
       "   'CNTINSCRITOS': '400',\n",
       "   'DEP': 0,\n",
       "   'MUN': '1',\n",
       "   'NDEP': 'GUATEMALA',\n",
       "   'NMUN': 'DISTRITO CENTRAL',\n",
       "   'NTE': 'DIPUTADOS POR LISTA NACIONAL',\n",
       "   'VOTOSTE1': [{'D': 'PHG', 'V': '8'},\n",
       "    {'D': 'VAMOS', 'V': '18'},\n",
       "    {'D': 'TODOS', 'V': '3'},\n",
       "    {'D': 'UNE', 'V': '2'},\n",
       "    {'D': 'VALOR', 'V': '15'},\n",
       "    {'D': 'UNIONISTA', 'V': '27'},\n",
       "    {'D': 'FUERZA', 'V': '3'},\n",
       "    {'D': 'FCN-NACION', 'V': '1'},\n",
       "    {'D': 'WINAQ', 'V': '14'},\n",
       "    {'D': 'UCN', 'V': '2'},\n",
       "    {'D': 'EG', 'V': '7'},\n",
       "    {'D': 'URNG MAIZ', 'V': '6'},\n",
       "    {'D': 'PAN', 'V': '7'},\n",
       "    {'D': 'PPT', 'V': '4'},\n",
       "    {'D': 'PC', 'V': '2'},\n",
       "    {'D': 'VICTORIA', 'V': '3'},\n",
       "    {'D': 'SEMILLA', 'V': '68'},\n",
       "    {'D': 'VIVA', 'V': '21'},\n",
       "    {'D': 'CREO', 'V': '22'},\n",
       "    {'D': 'CONVERGENCIA', 'V': '3'},\n",
       "    {'D': 'UNIDOS', 'V': '7'},\n",
       "    {'D': 'PODEMOS', 'V': '6'},\n",
       "    {'D': 'BIEN', 'V': '7'},\n",
       "    {'D': 'LIBRE', 'V': '4'},\n",
       "    {'D': 'AVANZA', 'V': '2'},\n",
       "    {'D': 'MLP', 'V': '3'}]},\n",
       "  {'TIPOELECCION': '3',\n",
       "   'IMGSTATUS': 'OK',\n",
       "   'IMGSRC': '../img/201901/000013.jpg',\n",
       "   'STACTA': '1',\n",
       "   'CNTPAPELETAS': 0,\n",
       "   'VOTOSVALIDOSACTA': '253',\n",
       "   'VOTOSVALIDOS': '253',\n",
       "   'NULOS': '36',\n",
       "   'BLANCOS': '3',\n",
       "   'INVALIDOS': 0,\n",
       "   'TOTALACTA': '292',\n",
       "   'TOTALVOTOS': '292',\n",
       "   'ACTACUADRA': '1',\n",
       "   'CNTIMPUGNA': 0,\n",
       "   'STESCAN': '2',\n",
       "   'STTRANS': '1',\n",
       "   'STFISIC': 0,\n",
       "   'CNTINSCRITOS': '400',\n",
       "   'DEP': 0,\n",
       "   'MUN': '1',\n",
       "   'NDEP': 'GUATEMALA',\n",
       "   'NMUN': 'DISTRITO CENTRAL',\n",
       "   'NTE': 'DIPUTADOS DISTRITALES',\n",
       "   'VOTOSTE2': [{'D': 'PPT', 'V': '7'},\n",
       "    {'D': 'VAMOS', 'V': '17'},\n",
       "    {'D': 'FUERZA', 'V': '4'},\n",
       "    {'D': 'TODOS', 'V': '5'},\n",
       "    {'D': 'UNE', 'V': '4'},\n",
       "    {'D': 'UNIONISTA', 'V': '26'},\n",
       "    {'D': 'VALOR', 'V': '14'},\n",
       "    {'D': 'WINAQ', 'V': '16'},\n",
       "    {'D': 'UCN', 'V': 0},\n",
       "    {'D': 'EG', 'V': '4'},\n",
       "    {'D': 'CONVERGENCIA', 'V': '2'},\n",
       "    {'D': 'PAN', 'V': '3'},\n",
       "    {'D': 'PHG', 'V': '9'},\n",
       "    {'D': 'PC', 'V': '2'},\n",
       "    {'D': 'BIEN', 'V': '4'},\n",
       "    {'D': 'UNIDOS', 'V': 0},\n",
       "    {'D': 'PODEMOS', 'V': '2'},\n",
       "    {'D': 'FCN-NACION', 'V': 0},\n",
       "    {'D': 'SEMILLA', 'V': '71'},\n",
       "    {'D': 'VICTORIA', 'V': '1'},\n",
       "    {'D': 'VIVA', 'V': '2'},\n",
       "    {'D': 'URNG MAIZ', 'V': '3'},\n",
       "    {'D': 'CREO', 'V': '9'},\n",
       "    {'D': 'LIBRE', 'V': '2'},\n",
       "    {'D': 'AVANZA', 'V': '4'},\n",
       "    {'D': 'MLP', 'V': 0}]},\n",
       "  {'TIPOELECCION': '4',\n",
       "   'IMGSTATUS': 'OK',\n",
       "   'IMGSRC': '../img/201901/000014.jpg',\n",
       "   'STACTA': '1',\n",
       "   'CNTPAPELETAS': 0,\n",
       "   'VOTOSVALIDOSACTA': '281',\n",
       "   'VOTOSVALIDOS': '281',\n",
       "   'NULOS': '11',\n",
       "   'BLANCOS': 0,\n",
       "   'INVALIDOS': 0,\n",
       "   'TOTALACTA': '292',\n",
       "   'TOTALVOTOS': '292',\n",
       "   'ACTACUADRA': '1',\n",
       "   'CNTIMPUGNA': 0,\n",
       "   'STESCAN': '2',\n",
       "   'STTRANS': '1',\n",
       "   'STFISIC': 0,\n",
       "   'CNTINSCRITOS': '400',\n",
       "   'DEP': 0,\n",
       "   'MUN': '1',\n",
       "   'NDEP': 'GUATEMALA',\n",
       "   'NMUN': 'DISTRITO CENTRAL',\n",
       "   'NTE': 'CORPORACIÓN MUNICIPAL',\n",
       "   'VOTOSTE3': [{'D': 'UCN', 'V': 0},\n",
       "    {'D': 'UNIONISTA', 'V': '115'},\n",
       "    {'D': 'PHG', 'V': '3'},\n",
       "    {'D': 'CONVERGENCIA', 'V': '1'},\n",
       "    {'D': 'VICTORIA', 'V': '2'},\n",
       "    {'D': 'CREO', 'V': '81'},\n",
       "    {'D': 'PPT', 'V': '3'},\n",
       "    {'D': 'EG', 'V': '6'},\n",
       "    {'D': 'TODOS', 'V': '6'},\n",
       "    {'D': 'FCN-NACION', 'V': 0},\n",
       "    {'D': 'VIVA', 'V': '8'},\n",
       "    {'D': 'UNE', 'V': '1'},\n",
       "    {'D': 'SEMILLA', 'V': '39'},\n",
       "    {'D': 'VAMOS', 'V': '6'},\n",
       "    {'D': 'FUERZA', 'V': '5'},\n",
       "    {'D': 'BIEN', 'V': '1'},\n",
       "    {'D': 'LIBRE', 'V': '3'},\n",
       "    {'D': 'PC', 'V': '1'}]},\n",
       "  {'TIPOELECCION': '5',\n",
       "   'IMGSTATUS': 'OK',\n",
       "   'IMGSRC': '../img/201901/000015.jpg',\n",
       "   'STACTA': '1',\n",
       "   'CNTPAPELETAS': 0,\n",
       "   'VOTOSVALIDOSACTA': '110',\n",
       "   'VOTOSVALIDOS': '110',\n",
       "   'NULOS': '174',\n",
       "   'BLANCOS': '8',\n",
       "   'INVALIDOS': 0,\n",
       "   'TOTALACTA': '292',\n",
       "   'TOTALVOTOS': '292',\n",
       "   'ACTACUADRA': '1',\n",
       "   'CNTIMPUGNA': 0,\n",
       "   'STESCAN': '2',\n",
       "   'STTRANS': '1',\n",
       "   'STFISIC': 0,\n",
       "   'CNTINSCRITOS': '400',\n",
       "   'DEP': 0,\n",
       "   'MUN': '1',\n",
       "   'NDEP': 'GUATEMALA',\n",
       "   'NMUN': 'DISTRITO CENTRAL',\n",
       "   'NTE': 'DIPUTADOS AL PARLAMENTO CENTROAMERICANO',\n",
       "   'VOTOSTE4': [{'D': 'LIBRE', 'V': '1'},\n",
       "    {'D': 'UNIONISTA', 'V': '14'},\n",
       "    {'D': 'VAMOS', 'V': '11'},\n",
       "    {'D': 'FUERZA', 'V': '2'},\n",
       "    {'D': 'TODOS', 'V': '2'},\n",
       "    {'D': 'VALOR', 'V': '11'},\n",
       "    {'D': 'FCN-NACION', 'V': '2'},\n",
       "    {'D': 'UCN', 'V': 0},\n",
       "    {'D': 'EG', 'V': '5'},\n",
       "    {'D': 'WINAQ', 'V': '11'},\n",
       "    {'D': 'SEMILLA', 'V': '14'},\n",
       "    {'D': 'CREO', 'V': '14'},\n",
       "    {'D': 'UNE', 'V': '5'},\n",
       "    {'D': 'PAN', 'V': '1'},\n",
       "    {'D': 'UNIDOS', 'V': '7'},\n",
       "    {'D': 'URNG MAIZ', 'V': '6'},\n",
       "    {'D': 'VICTORIA', 'V': '1'},\n",
       "    {'D': 'VIVA', 'V': '2'},\n",
       "    {'D': 'PODEMOS', 'V': 0},\n",
       "    {'D': 'BIEN', 'V': 0},\n",
       "    {'D': 'CONVERGENCIA', 'V': '14'},\n",
       "    {'D': 'PC', 'V': '14'},\n",
       "    {'D': 'AVANZA', 'V': '5'}]}],\n",
       " 'N': 5,\n",
       " 'MESSAGE': 'OK'}"
      ]
     },
     "execution_count": 48,
     "metadata": {},
     "output_type": "execute_result"
    }
   ],
   "source": [
    "a"
   ]
  },
  {
   "cell_type": "code",
   "execution_count": 121,
   "metadata": {},
   "outputs": [],
   "source": [
    "def fixNests(a, limit = 5):\n",
    "    for i in range(0,limit):\n",
    "        for p in a[\"TE\"][i][\"VOTOSTE\" + str(i)]:\n",
    "            a[\"TE\"][i][\"Votos_\"+p[\"D\"]] = p[\"V\"]\n",
    "        del a[\"TE\"][i][\"VOTOSTE\" + str(i)]\n",
    "    return a"
   ]
  },
  {
   "cell_type": "code",
   "execution_count": 50,
   "metadata": {},
   "outputs": [],
   "source": [
    "a = fixNests(a)"
   ]
  },
  {
   "cell_type": "code",
   "execution_count": 51,
   "metadata": {},
   "outputs": [],
   "source": [
    "a = pd.io.json.json_normalize(a, \"TE\", [\"NROMESA\", \"FECHAHORA\"])"
   ]
  },
  {
   "cell_type": "code",
   "execution_count": 54,
   "metadata": {},
   "outputs": [
    {
     "data": {
      "text/plain": [
       "Index(['ACTACUADRA', 'BLANCOS', 'CNTIMPUGNA', 'CNTINSCRITOS', 'CNTPAPELETAS',\n",
       "       'DEP', 'IMGSRC', 'IMGSTATUS', 'INVALIDOS', 'MUN', 'NDEP', 'NMUN', 'NTE',\n",
       "       'NULOS', 'STACTA', 'STESCAN', 'STFISIC', 'STTRANS', 'TIPOELECCION',\n",
       "       'TOTALACTA', 'TOTALVOTOS', 'VOTOSVALIDOS', 'VOTOSVALIDOSACTA',\n",
       "       'Votos_AVANZA', 'Votos_BIEN', 'Votos_CONVERGENCIA', 'Votos_CREO',\n",
       "       'Votos_EG', 'Votos_FCN-NACION', 'Votos_FUERZA', 'Votos_LIBRE',\n",
       "       'Votos_MLP', 'Votos_PAN', 'Votos_PAN-PODEMOS', 'Votos_PC', 'Votos_PHG',\n",
       "       'Votos_PODEMOS', 'Votos_PPT', 'Votos_SEMILLA', 'Votos_TODOS',\n",
       "       'Votos_UCN', 'Votos_UNE', 'Votos_UNIDOS', 'Votos_UNIONISTA',\n",
       "       'Votos_URNG MAIZ', 'Votos_VALOR', 'Votos_VAMOS', 'Votos_VICTORIA',\n",
       "       'Votos_VIVA', 'Votos_WINAQ', 'NROMESA', 'FECHAHORA'],\n",
       "      dtype='object')"
      ]
     },
     "execution_count": 54,
     "metadata": {},
     "output_type": "execute_result"
    }
   ],
   "source": [
    "a.columns"
   ]
  },
  {
   "cell_type": "code",
   "execution_count": 75,
   "metadata": {},
   "outputs": [
    {
     "name": "stdout",
     "output_type": "stream",
     "text": [
      "1000\n",
      "2000\n",
      "3000\n",
      "4000\n",
      "5000\n",
      "6000\n",
      "7000\n",
      "8000\n",
      "9000\n",
      "10000\n",
      "11000\n",
      "12000\n",
      "ERROR 12976\n",
      "13000\n",
      "14000\n",
      "15000\n",
      "ERROR 15126\n",
      "ERROR 15132\n",
      "ERROR 15134\n",
      "ERROR 15135\n",
      "ERROR 15137\n",
      "ERROR 15138\n",
      "ERROR 15139\n",
      "ERROR 15140\n",
      "ERROR 15141\n",
      "ERROR 15142\n",
      "16000\n",
      "17000\n",
      "18000\n",
      "19000\n",
      "20000\n"
     ]
    }
   ],
   "source": [
    "errores = []\n",
    "df = pd.DataFrame(columns=df.columns)\n",
    "for i in range(1,20991):\n",
    "    try:\n",
    "        with open(\"mesas_rv/{}.json\".format(i)) as f:\n",
    "            a = json.load(f)\n",
    "            a = fixNests(a)\n",
    "            a[\"i\"] = i\n",
    "            df = df.append( pd.io.json.json_normalize(a, \"TE\", [\"NROMESA\", \"FECHAHORA\"]))\n",
    "        if i%1000 == 0:\n",
    "            print(i)\n",
    "    except: \n",
    "        print(\"ERROR\", i)\n",
    "        errores.append(i)"
   ]
  },
  {
   "cell_type": "code",
   "execution_count": 86,
   "metadata": {},
   "outputs": [],
   "source": [
    "errores = list(filter(lambda x: x!=12976, errores))"
   ]
  },
  {
   "cell_type": "code",
   "execution_count": 87,
   "metadata": {},
   "outputs": [
    {
     "data": {
      "text/plain": [
       "[15126, 15132, 15134, 15135, 15137, 15138, 15139, 15140, 15141, 15142]"
      ]
     },
     "execution_count": 87,
     "metadata": {},
     "output_type": "execute_result"
    }
   ],
   "source": [
    "errores"
   ]
  },
  {
   "cell_type": "code",
   "execution_count": 81,
   "metadata": {},
   "outputs": [
    {
     "data": {
      "text/html": [
       "<div>\n",
       "<style scoped>\n",
       "    .dataframe tbody tr th:only-of-type {\n",
       "        vertical-align: middle;\n",
       "    }\n",
       "\n",
       "    .dataframe tbody tr th {\n",
       "        vertical-align: top;\n",
       "    }\n",
       "\n",
       "    .dataframe thead th {\n",
       "        text-align: right;\n",
       "    }\n",
       "</style>\n",
       "<table border=\"1\" class=\"dataframe\">\n",
       "  <thead>\n",
       "    <tr style=\"text-align: right;\">\n",
       "      <th></th>\n",
       "      <th>ACTACUADRA</th>\n",
       "      <th>BLANCOS</th>\n",
       "      <th>CNTIMPUGNA</th>\n",
       "      <th>CNTINSCRITOS</th>\n",
       "      <th>CNTPAPELETAS</th>\n",
       "      <th>DEP</th>\n",
       "      <th>FECHAHORA</th>\n",
       "      <th>IMGSRC</th>\n",
       "      <th>IMGSTATUS</th>\n",
       "      <th>INVALIDOS</th>\n",
       "      <th>...</th>\n",
       "      <th>Votos_URNG MAIZ</th>\n",
       "      <th>Votos_VALOR</th>\n",
       "      <th>Votos_VAMOS</th>\n",
       "      <th>Votos_VENADO</th>\n",
       "      <th>Votos_VICTORIA</th>\n",
       "      <th>Votos_VIVA</th>\n",
       "      <th>Votos_WINAQ</th>\n",
       "      <th>Votos_WINAQ-URNG</th>\n",
       "      <th>Votos_WINAQ-URNG-LIBRE</th>\n",
       "      <th>Votos_ZARAGOZA POR SIEMPRE</th>\n",
       "    </tr>\n",
       "  </thead>\n",
       "  <tbody>\n",
       "  </tbody>\n",
       "</table>\n",
       "<p>0 rows × 161 columns</p>\n",
       "</div>"
      ],
      "text/plain": [
       "Empty DataFrame\n",
       "Columns: [ACTACUADRA, BLANCOS, CNTIMPUGNA, CNTINSCRITOS, CNTPAPELETAS, DEP, FECHAHORA, IMGSRC, IMGSTATUS, INVALIDOS, MUN, NDEP, NMUN, NROMESA, NTE, NULOS, STACTA, STESCAN, STFISIC, STTRANS, TIPOELECCION, TOTALACTA, TOTALVOTOS, VOTOSTE0, VOTOSTE1, VOTOSTE2, VOTOSTE3, VOTOSTE4, VOTOSVALIDOS, VOTOSVALIDOSACTA, Votos_-ATS-, Votos_AL CAMBIO, Votos_AL RESCATE DE ZACAPA, Votos_ALUX ¡SOMOS SAN LUCAS!, Votos_AVANZA, Votos_BIEN, Votos_C C B, Votos_C.C.A., Votos_C.C.C., Votos_C.C.E.S, Votos_C.C.I.H., Votos_C.C.L.M., Votos_C.C.M.T., Votos_C.C.N.I., Votos_C.C.S, Votos_C.I.P., Votos_C.S.S., Votos_CABRA, Votos_CAFESA, Votos_CAMBIO, Votos_CASA, Votos_CC PER-DO-MO, Votos_CCA, Votos_CCAM, Votos_CCC, Votos_CCCC, Votos_CCCSP, Votos_CCEA, Votos_CCLE, Votos_CCLP, Votos_CCM, Votos_CCML, Votos_CCO, Votos_CCP, Votos_CCS, Votos_CCSS, Votos_CCT, Votos_CCTPI, Votos_CCTU, Votos_CHIQUMULA VERDE, Votos_CH´ICH´, Votos_CNC, Votos_COCERNA, Votos_COCIDISH, Votos_COCIEAR, Votos_COCIECH, Votos_COCIEES, Votos_COCIEP, Votos_COCIM, Votos_COCIMI, Votos_COCIPROG, Votos_COCISA, Votos_COCITRA, Votos_COCIYAC, Votos_COMCICH, Votos_COMITE CIVICO EL CAMINO, Votos_COMITE CIVICO NUEVO AMANECER, Votos_COMITÉ CÍVICO EL CAMPESINO, Votos_COMITÉ CÍVICO RENOVADOR, Votos_CONVERGENCIA, Votos_CRECER, Votos_CREO, Votos_CUM, Votos_D.C., Votos_DESANRAY, Votos_DESARROLLO, Votos_DIGNIDAD, Votos_EG, Votos_EL CACAO, Votos_EL CÁNTARO, ...]\n",
       "Index: []\n",
       "\n",
       "[0 rows x 161 columns]"
      ]
     },
     "execution_count": 81,
     "metadata": {},
     "output_type": "execute_result"
    }
   ],
   "source": [
    "df[df.NROMESA.isin(errores)]"
   ]
  },
  {
   "cell_type": "code",
   "execution_count": 88,
   "metadata": {},
   "outputs": [],
   "source": [
    "df2 = pd.DataFrame(columns=df.columns)\n",
    "\n",
    "for i in errores:\n",
    "    try:\n",
    "        with open(\"mesas_rv/{}.json\".format(i)) as f:\n",
    "            a = json.load(f)\n",
    "            a = fixNests(a)\n",
    "            a[\"i\"] = i\n",
    "            df2 = df2.append( pd.io.json.json_normalize(a, \"TE\", [\"NROMESA\", \"FECHAHORA\"]))\n",
    "        if i%1000 == 0:\n",
    "            print(i)\n",
    "    except: \n",
    "        print(\"ERROR\", i)\n",
    "        errores.append(i)"
   ]
  },
  {
   "cell_type": "code",
   "execution_count": 92,
   "metadata": {},
   "outputs": [],
   "source": [
    "df = df.append(df2)"
   ]
  },
  {
   "cell_type": "code",
   "execution_count": 93,
   "metadata": {},
   "outputs": [],
   "source": [
    "df.to_csv(\"e19-mesas-1-a-20990.csv\")"
   ]
  },
  {
   "cell_type": "code",
   "execution_count": 95,
   "metadata": {},
   "outputs": [
    {
     "name": "stdout",
     "output_type": "stream",
     "text": [
      "\n"
     ]
    }
   ],
   "source": [
    "with open(\"mesas_rv/12976.json\", \"r\") as f:\n",
    "    # malmesa = json.load(f)\n",
    "    print(f.read())"
   ]
  },
  {
   "cell_type": "code",
   "execution_count": 96,
   "metadata": {},
   "outputs": [
    {
     "data": {
      "text/plain": [
       "0    1\n",
       "1    2\n",
       "2    3\n",
       "3    4\n",
       "4    5\n",
       "Name: TIPOELECCION, dtype: object"
      ]
     },
     "execution_count": 96,
     "metadata": {},
     "output_type": "execute_result"
    }
   ],
   "source": [
    "df.TIPOELECCION.head()"
   ]
  },
  {
   "cell_type": "code",
   "execution_count": 112,
   "metadata": {},
   "outputs": [
    {
     "data": {
      "text/plain": [
       "454383"
      ]
     },
     "execution_count": 112,
     "metadata": {},
     "output_type": "execute_result"
    }
   ],
   "source": [
    "df[(df.TIPOELECCION == \"1\")].Votos_MLP.astype(int).sum()"
   ]
  },
  {
   "cell_type": "code",
   "execution_count": 123,
   "metadata": {},
   "outputs": [
    {
     "name": "stderr",
     "output_type": "stream",
     "text": [
      "/usr/local/lib/python3.6/dist-packages/pandas/core/frame.py:6692: FutureWarning: Sorting because non-concatenation axis is not aligned. A future version\n",
      "of pandas will change to not sort by default.\n",
      "\n",
      "To accept the future behavior, pass 'sort=False'.\n",
      "\n",
      "To retain the current behavior and silence the warning, pass 'sort=True'.\n",
      "\n",
      "  sort=sort)\n"
     ]
    },
    {
     "name": "stdout",
     "output_type": "stream",
     "text": [
      "21000\n"
     ]
    }
   ],
   "source": [
    "df3 = pd.DataFrame(columns=df.columns)\n",
    "\n",
    "for i in range(20991, 21100):\n",
    "    try:\n",
    "        with open(\"mesas_rv/{}.json\".format(i)) as f:\n",
    "            a = json.load(f)\n",
    "            a = fixNests(a, 1)\n",
    "            a[\"i\"] = i\n",
    "            df3 = df3.append( pd.io.json.json_normalize(a, \"TE\", [\"NROMESA\", \"FECHAHORA\"]))\n",
    "        if i%1000 == 0:\n",
    "            print(i)\n",
    "    except: \n",
    "        print(\"ERROR\", i)\n",
    "        errores.append(i)"
   ]
  },
  {
   "cell_type": "code",
   "execution_count": 127,
   "metadata": {},
   "outputs": [
    {
     "data": {
      "text/plain": [
       "235"
      ]
     },
     "execution_count": 127,
     "metadata": {},
     "output_type": "execute_result"
    }
   ],
   "source": [
    "df3.Votos_MLP.astype(int).sum()"
   ]
  },
  {
   "cell_type": "code",
   "execution_count": 128,
   "metadata": {},
   "outputs": [
    {
     "data": {
      "text/plain": [
       "33"
      ]
     },
     "execution_count": 128,
     "metadata": {},
     "output_type": "execute_result"
    }
   ],
   "source": [
    "df3.Votos_UNE.astype(int).sum()"
   ]
  },
  {
   "cell_type": "code",
   "execution_count": null,
   "metadata": {},
   "outputs": [],
   "source": []
  }
 ],
 "metadata": {
  "kernelspec": {
   "display_name": "Python 3",
   "language": "python",
   "name": "python3"
  },
  "language_info": {
   "codemirror_mode": {
    "name": "ipython",
    "version": 3
   },
   "file_extension": ".py",
   "mimetype": "text/x-python",
   "name": "python",
   "nbconvert_exporter": "python",
   "pygments_lexer": "ipython3",
   "version": "3.6.8"
  }
 },
 "nbformat": 4,
 "nbformat_minor": 2
}
